{
 "cells": [
  {
   "cell_type": "code",
   "execution_count": 1,
   "metadata": {},
   "outputs": [],
   "source": [
    "import unicodedata\n",
    "\n",
    "def unicode_test(value):\n",
    "    name = unicodedata.name(value)\n",
    "    print(\"value=%s, name=%s\" % (value,name))"
   ]
  },
  {
   "cell_type": "code",
   "execution_count": 2,
   "metadata": {},
   "outputs": [
    {
     "name": "stdout",
     "output_type": "stream",
     "text": [
      "value=B, name=LATIN CAPITAL LETTER B\n"
     ]
    }
   ],
   "source": [
    "unicode_test(\"B\")"
   ]
  },
  {
   "cell_type": "code",
   "execution_count": 5,
   "metadata": {},
   "outputs": [
    {
     "name": "stdout",
     "output_type": "stream",
     "text": [
      "value=°, name=DEGREE SIGN\n"
     ]
    }
   ],
   "source": [
    "unicode_test(\"\\u00B0\")"
   ]
  },
  {
   "cell_type": "code",
   "execution_count": 6,
   "metadata": {},
   "outputs": [
    {
     "name": "stdout",
     "output_type": "stream",
     "text": [
      "this is a string and this is an int: 7\n"
     ]
    }
   ],
   "source": [
    "s='this is a string'\n",
    "x=7\n",
    "print(f\"{s} and this is an int: {x}\")"
   ]
  },
  {
   "cell_type": "code",
   "execution_count": 14,
   "metadata": {},
   "outputs": [
    {
     "name": "stdout",
     "output_type": "stream",
     "text": [
      "to be\n"
     ]
    }
   ],
   "source": [
    "import re\n",
    "source = \"To be or not to be, that is the question\"\n",
    "compiled_pattern = re.compile(\"to be\")\n",
    "m = compiled_pattern.match(source.lower())\n",
    "\n",
    "if m:\n",
    "    print(m.group())"
   ]
  }
 ],
 "metadata": {
  "kernelspec": {
   "display_name": "Python 3",
   "language": "python",
   "name": "python3"
  },
  "language_info": {
   "codemirror_mode": {
    "name": "ipython",
    "version": 3
   },
   "file_extension": ".py",
   "mimetype": "text/x-python",
   "name": "python",
   "nbconvert_exporter": "python",
   "pygments_lexer": "ipython3",
   "version": "3.7.0"
  }
 },
 "nbformat": 4,
 "nbformat_minor": 2
}
