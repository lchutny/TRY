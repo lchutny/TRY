{
 "cells": [
  {
   "cell_type": "markdown",
   "metadata": {},
   "source": [
    "# Unit 5 Live Session - Breakout Activities\n",
    "\n",
    "## Activity 1 -  Function Practice\n"
   ]
  },
  {
   "cell_type": "markdown",
   "metadata": {},
   "source": [
    "### 1-A\n",
    "\n",
    "You are performing an analysis of text from different authors.  As part of this, you decide to write some functions that assign numerical scores to words.\n",
    "\n",
    "Create three functions:\n",
    "\n",
    "1. The first should be called \"doubly\".  It should take in a word and return the number of repeated letters (e.g. oo or ee) in the word.\n",
    "\n",
    "2. The second should be called \"vowel_density\".  It should take in a word and a vowel and return the number of time that vowel appears in the word, divided by the total number of letters.\n",
    "\n",
    "3. The third function should be one you design to create a score for a word.\n",
    "\n",
    "Use a \"doc string\" to create help documentation for each function.\n",
    "\n",
    "Sample Output:\n",
    "```python\n",
    "print(doubly('beer'))\n",
    "print(vowel_density('beer', 'e'))\n",
    "1\n",
    "0.5\n",
    "```\n"
   ]
  },
  {
   "cell_type": "code",
   "execution_count": 33,
   "metadata": {},
   "outputs": [
    {
     "name": "stdout",
     "output_type": "stream",
     "text": [
      "1\n",
      "0.0\n",
      "10.0\n"
     ]
    }
   ],
   "source": [
    "import string\n",
    "from collections import Counter\n",
    "\n",
    "def doubly(word):\n",
    "    \"\"\" Takes a word and returns the number of repeated\n",
    "    letters in that word\"\"\"\n",
    "    count = 0\n",
    "    letters = Counter(word)\n",
    "    for letter in letters:\n",
    "        if letters.get(letter) > 1:\n",
    "            count +=1\n",
    "\n",
    "    return count\n",
    "\n",
    "def vowel_density(word, vowel='a'):\n",
    "    \"\"\" Takes a word and a vowel and returns the number of times that\n",
    "    vowel appears in the word divided by the total number of letters in the word\"\"\"\n",
    "    count = 0\n",
    "    for n in word:\n",
    "        if n not in string.ascii_letters:\n",
    "            raise IOError\n",
    "    if vowel in 'aeiou':\n",
    "        for l in word:\n",
    "            if l == vowel:\n",
    "                count+=1\n",
    "        density = count/len(word)\n",
    "        return density\n",
    "    else:\n",
    "        raise IOError\n",
    "\n",
    "def word_score(word):\n",
    "    \"\"\" Takes a word and returns 1 point for each letter, plus an extra point for\n",
    "    each doubled letter, and adds 10*the total vowel density for a total score \"\"\"\n",
    "    vowelscore = 0\n",
    "    for vowel in 'aeiou':\n",
    "        vowel1 = vowel_density(word,vowel)\n",
    "        vowelscore += vowel1\n",
    "    dblscore = doubly(word)\n",
    "    for letter in word:\n",
    "        if letter not in string.ascii_letters:\n",
    "            return False\n",
    "    basescore = len(word)\n",
    "    totalscore = basescore + dblscore + 10*vowelscore\n",
    "    return totalscore\n",
    "\n",
    "print(doubly('beer'))\n",
    "print(vowel_density('beer'))\n",
    "print(word_score('beer'))"
   ]
  },
  {
   "cell_type": "markdown",
   "metadata": {},
   "source": [
    "Below, you will see some tests for the functions you are writing.  Add at least two tests for the third function that you're writing.\n",
    "\n",
    "In fact, a good practice is to write these tests *first*, before you attempt to write your function.  This is part of a process that developers call *test-driven development*."
   ]
  },
  {
   "cell_type": "code",
   "execution_count": 15,
   "metadata": {},
   "outputs": [
    {
     "ename": "AssertionError",
     "evalue": "",
     "output_type": "error",
     "traceback": [
      "\u001b[1;31m---------------------------------------------------------------------------\u001b[0m",
      "\u001b[1;31mAssertionError\u001b[0m                            Traceback (most recent call last)",
      "\u001b[1;32m<ipython-input-15-d54bebeee768>\u001b[0m in \u001b[0;36m<module>\u001b[1;34m()\u001b[0m\n\u001b[0;32m      2\u001b[0m \u001b[1;32massert\u001b[0m\u001b[1;33m(\u001b[0m\u001b[0mvowel_density\u001b[0m\u001b[1;33m(\u001b[0m\u001b[1;34m'beer'\u001b[0m\u001b[1;33m,\u001b[0m\u001b[1;34m'e'\u001b[0m\u001b[1;33m)\u001b[0m \u001b[1;33m==\u001b[0m \u001b[1;36m0.5\u001b[0m\u001b[1;33m)\u001b[0m\u001b[1;33m\u001b[0m\u001b[0m\n\u001b[0;32m      3\u001b[0m \u001b[1;32massert\u001b[0m\u001b[1;33m(\u001b[0m\u001b[0mword_score\u001b[0m\u001b[1;33m(\u001b[0m\u001b[1;34m'beer'\u001b[0m\u001b[1;33m)\u001b[0m \u001b[1;33m==\u001b[0m \u001b[1;36m10\u001b[0m\u001b[1;33m)\u001b[0m\u001b[1;33m\u001b[0m\u001b[0m\n\u001b[1;32m----> 4\u001b[1;33m \u001b[1;32massert\u001b[0m\u001b[1;33m(\u001b[0m\u001b[0mword_score\u001b[0m\u001b[1;33m(\u001b[0m\u001b[1;34m'bdfgh_'\u001b[0m\u001b[1;33m)\u001b[0m \u001b[1;33m==\u001b[0m \u001b[1;36m5\u001b[0m \u001b[1;33m)\u001b[0m\u001b[1;33m\u001b[0m\u001b[0m\n\u001b[0m",
      "\u001b[1;31mAssertionError\u001b[0m: "
     ]
    }
   ],
   "source": [
    "assert(doubly('beer') == 1)\n",
    "assert(vowel_density('beer','e') == 0.5)\n",
    "assert(word_score('beer') == 10)\n",
    "assert(word_score('bdfgh_') == 5 )"
   ]
  },
  {
   "cell_type": "code",
   "execution_count": 16,
   "metadata": {},
   "outputs": [
    {
     "name": "stdout",
     "output_type": "stream",
     "text": [
      "Help on function vowel_density in module __main__:\n",
      "\n",
      "vowel_density(word, vowel='a')\n",
      "    Takes a word and a vowel and returns the number of times that\n",
      "    vowel appears in the word divided by the total number of letters in the word\n",
      "\n"
     ]
    }
   ],
   "source": [
    "# This should call a useful message\n",
    "help(vowel_density)"
   ]
  },
  {
   "cell_type": "markdown",
   "metadata": {},
   "source": [
    "### 1-B\n",
    "Add a default parameter to the function vowel_density, set to \"e\".  Add a test to see if this functionality is working.\n"
   ]
  },
  {
   "cell_type": "code",
   "execution_count": null,
   "metadata": {},
   "outputs": [],
   "source": [
    "#rewrite the vowel_density def as: def vowel_density(word, vowel='e'):\n",
    "#use a test by calling vowel_density('beer') and see if it gives the right answer (i.e. missing the vowel input)"
   ]
  },
  {
   "cell_type": "markdown",
   "metadata": {},
   "source": [
    "### 1-C\n",
    "\n",
    "Great! Now for a fun trick.  As you learned in Async, functions are really just objects!  Prove this to yourself by printing the type of your functions.\n",
    "\n",
    "```python\n",
    "print(type(multiply))\n",
    "print(type(addify))\n",
    "<class 'function'>\n",
    "<class 'function'>\n",
    "```"
   ]
  },
  {
   "cell_type": "code",
   "execution_count": 17,
   "metadata": {},
   "outputs": [
    {
     "name": "stdout",
     "output_type": "stream",
     "text": [
      "<class 'function'>\n",
      "<class 'function'>\n",
      "<class 'function'>\n"
     ]
    }
   ],
   "source": [
    "print(type(doubly))\n",
    "print(type(vowel_density))\n",
    "print(type(word_score))"
   ]
  },
  {
   "cell_type": "markdown",
   "metadata": {},
   "source": [
    "Because your functions are objects, they can serve as inputs to other functions!  Create a new function, called \"best_word()\".  This function should take two parameters.\n",
    "1. The first parameter will be a function.  The argument you pass for the parameter will be one of the functions you wrote above.\n",
    "2. The second parameter will be a list of words.\n",
    "\n",
    "Your function should generate a score for each word using the first parameter and then output the word with the highest score.\n",
    "\n",
    "If this is unclear, see the sample output below:\n",
    "```python\n",
    "best_word(vowelly, ['beer', 'balloon'])\n",
    "beer\n",
    "best_word(doubly, ['beer', 'balloon'])\n",
    "balloon\n",
    "```"
   ]
  },
  {
   "cell_type": "code",
   "execution_count": 28,
   "metadata": {},
   "outputs": [
    {
     "data": {
      "text/plain": [
       "'balloon'"
      ]
     },
     "execution_count": 28,
     "metadata": {},
     "output_type": "execute_result"
    }
   ],
   "source": [
    "### Functions as Objects - Create a function that takes functions\n",
    "### Remember your Doc_String\n",
    "def best_word(scoreit, wordlist):\n",
    "    \"\"\"uses word_score to calculate the best word from a list of words based on the highest total word score\n",
    "    (as arbitrarily defined) and return the 'best word' \"\"\"\n",
    "    score=0\n",
    "    for word in wordlist:\n",
    "        if scoreit(word) >= score:\n",
    "            wordscore = scoreit(word)\n",
    "            bestword = word\n",
    "            score = score + wordscore\n",
    "    return bestword\n",
    "\n",
    "best_word(word_score, ['beer','balloon','bedlam'])\n",
    "\n"
   ]
  },
  {
   "cell_type": "markdown",
   "metadata": {},
   "source": [
    "### 1-D\n",
    "Show that you know how to call parameters \"out of order\" by including positional arguments in your function call.\n",
    "\n",
    "Call your \"best_word\" function, but include the list as the first argument, and your function as the second.  Do not modify any of your functions when completing this step."
   ]
  },
  {
   "cell_type": "code",
   "execution_count": 19,
   "metadata": {},
   "outputs": [
    {
     "data": {
      "text/plain": [
       "'balloon'"
      ]
     },
     "execution_count": 19,
     "metadata": {},
     "output_type": "execute_result"
    }
   ],
   "source": [
    "### Use positional vs. non-positional arguments\n",
    "best_word(wordlist=['beer','balloon','bedlam'], scoreit = word_score)\n"
   ]
  },
  {
   "cell_type": "markdown",
   "metadata": {},
   "source": [
    "## Activity 2 - Using Try/Except with your Function\n",
    "\n",
    "Now let's use your functions in a bigger program and see how Exceptions work.\n",
    "\n",
    "### 2-A\n",
    "\n",
    "Write a script that asks the user for a word and a vowel, then calls the vowel_density function and prints a message about the result to the user.\n",
    "\n",
    "```\n",
    "Enter a word: tuba\n",
    "Enter a vowel: a\n",
    "0.25 of the letters in tuba are a.\n",
    "```"
   ]
  },
  {
   "cell_type": "code",
   "execution_count": 26,
   "metadata": {},
   "outputs": [
    {
     "name": "stdout",
     "output_type": "stream",
     "text": [
      "Enter a word:\n",
      "enter a vowel:q\n",
      "Incorrect Entry\n"
     ]
    }
   ],
   "source": [
    "### Try and Except (and Raise)  Enter an Integer Into your program.\n",
    "# doesn't really work, because input is ALWAYS a string, unless typecast as an integer.\n",
    "#what would be the  case that entering an integer would pop an error? Can't think of one at the moment.\n",
    "try:\n",
    "    word = input(\"Enter a word:\")\n",
    "    vowel = input(\"enter a vowel:\")\n",
    "    if vowel_density(word,vowel):\n",
    "        print(vowel_density(word,vowel),\" of the letters in \",word,\"are\",vowel,\".\")\n",
    "    else:\n",
    "        print(\"Incorrect Entry\")\n",
    "except ValueError:\n",
    "    print(\"You didn't enter a word or a vowel\")\n",
    "except:\n",
    "    print(\"An unknown error occured\")\n",
    "    "
   ]
  },
  {
   "cell_type": "markdown",
   "metadata": {},
   "source": [
    "### 2-B\n",
    "\n",
    "What happens if you enter the empty string at the word prompt (hit return without typing any text)?  Make sure you get an error when this happens.\n",
    "\n",
    "Let's handle this error by wrapping your function call in a \"try/except\" framework.  Your try/except should catch the error you see above and print something to help the user understand the problem.\n",
    "\n",
    "```\n",
    "Enter a word:\n",
    "Enter a vowel: a\n",
    "You have entered zero letters so a vowel density cannot be computed.\n",
    "```"
   ]
  },
  {
   "cell_type": "code",
   "execution_count": 35,
   "metadata": {},
   "outputs": [
    {
     "name": "stdout",
     "output_type": "stream",
     "text": [
      "Enter a word:1234\n",
      "enter a vowel:a\n",
      "You didn't enter a word or a vowel\n"
     ]
    }
   ],
   "source": [
    "try:\n",
    "    word = input(\"Enter a word:\")\n",
    "    vowel = input(\"enter a vowel:\")\n",
    "    if vowel_density(word,vowel):\n",
    "        print(vowel_density(word,vowel),\" of the letters in \",word,\"are\",vowel,\".\")\n",
    "    else:\n",
    "        print(\"Incorrect Entry\")\n",
    "except IOError:\n",
    "    print(\"You didn't enter a word or a vowel\")\n",
    "except ValueError:\n",
    "    print(\"You didn't enter a word or a vowel\")\n",
    "except:\n",
    "    print(\"An unknown error occured\")"
   ]
  },
  {
   "cell_type": "markdown",
   "metadata": {},
   "source": [
    "### 2-C\n",
    "\n",
    "Now, we're going to provide some error messages of our own.  \n",
    "\n",
    "1A. Update your vowel_density function to make sure that the vowel parameter is really a vowel.  If it is not, raise an exception.  Your raise statement should be inside the function.\n",
    "\n",
    "1B. In your main script, catch the new exception that your function raises, and print a message to the user about entering a vowel.\n",
    "\n",
    "2A. Update your vowel_density function to check that the word is really made up of letters (and not numbers or other symbols).  Raise an Exception if this is not the case.\n",
    "\n",
    "2B. In your main script, catch the new exception that your function raises, and print a message to the user about the word not being valid.\n",
    "\n",
    "```\n",
    "Enter a word: beer\n",
    "Enter a vowel: x\n",
    "x is not a vowel.\n",
    "\n",
    "Enter a word: 143\n",
    "Enter a vowel: e\n",
    "143 is not a valid word.\n",
    "```\n",
    "\n"
   ]
  },
  {
   "cell_type": "code",
   "execution_count": 13,
   "metadata": {
    "collapsed": true
   },
   "outputs": [],
   "source": [
    "#this needs further work"
   ]
  },
  {
   "cell_type": "markdown",
   "metadata": {},
   "source": [
    "### 2-D\n",
    "\n",
    "Notice how all exceptions are raised inside the vowel_density function.  On the other hand, the main script only catches exceptions and the main script contains all the print statements.  In own words, explain why this is a sensible design."
   ]
  },
  {
   "cell_type": "markdown",
   "metadata": {},
   "source": [
    "## Activity 3 - Namespace and The Stack!\n",
    "\n",
    "### 3-A Finding an Error in the Stack Trace\n",
    "Please analyze the stack trace below.  \n",
    "\n",
    "In what function has an error occured?  How do you know?"
   ]
  },
  {
   "cell_type": "code",
   "execution_count": 9,
   "metadata": {},
   "outputs": [],
   "source": [
    "### The Stack -- Give an example of something wrong they need to fix.  Use the stack trace to find the issue.\n",
    "def function_1(parameter_1, parameter_2):\n",
    "    return(parameter_1 / parameter_2)\n",
    "\n",
    "def function_2(parameter_1, parameter_2):\n",
    "    res_1 = function_1(parameter_1, parameter_2)\n",
    "    return(res_1 * parameter_2)\n",
    "\n",
    "def function_3(parameter_1):\n",
    "    res_1 = function_2(parameter_1, parameter_1)\n",
    "    res_2 = function_1(parameter_1, parameter_1)\n",
    "    return(res_1 / res_2)\n",
    "\n",
    "def function_4(parameter_1, parameter_2):\n",
    "    res_1 = function_3(parameter_1)\n",
    "    res_2 = function_2(parameter_1, parameter_2)\n",
    "    apples = res_1 + res_2\n",
    "    return(apples)"
   ]
  },
  {
   "cell_type": "code",
   "execution_count": 18,
   "metadata": {},
   "outputs": [
    {
     "data": {
      "text/plain": [
       "200.0"
      ]
     },
     "execution_count": 18,
     "metadata": {},
     "output_type": "execute_result"
    }
   ],
   "source": [
    "function_4(100, 3)"
   ]
  },
  {
   "cell_type": "code",
   "execution_count": 19,
   "metadata": {},
   "outputs": [
    {
     "ename": "ZeroDivisionError",
     "evalue": "division by zero",
     "output_type": "error",
     "traceback": [
      "\u001b[1;31m---------------------------------------------------------------------------\u001b[0m",
      "\u001b[1;31mZeroDivisionError\u001b[0m                         Traceback (most recent call last)",
      "\u001b[1;32m<ipython-input-19-5162d4a6d460>\u001b[0m in \u001b[0;36m<module>\u001b[1;34m()\u001b[0m\n\u001b[1;32m----> 1\u001b[1;33m \u001b[0mfunction_4\u001b[0m\u001b[1;33m(\u001b[0m\u001b[1;36m100\u001b[0m\u001b[1;33m,\u001b[0m \u001b[1;36m0\u001b[0m\u001b[1;33m)\u001b[0m\u001b[1;33m\u001b[0m\u001b[0m\n\u001b[0m",
      "\u001b[1;32m<ipython-input-17-b9a5bc986b48>\u001b[0m in \u001b[0;36mfunction_4\u001b[1;34m(parameter_1, parameter_2)\u001b[0m\n\u001b[0;32m     14\u001b[0m \u001b[1;32mdef\u001b[0m \u001b[0mfunction_4\u001b[0m\u001b[1;33m(\u001b[0m\u001b[0mparameter_1\u001b[0m\u001b[1;33m,\u001b[0m \u001b[0mparameter_2\u001b[0m\u001b[1;33m)\u001b[0m\u001b[1;33m:\u001b[0m\u001b[1;33m\u001b[0m\u001b[0m\n\u001b[0;32m     15\u001b[0m     \u001b[0mres_1\u001b[0m \u001b[1;33m=\u001b[0m \u001b[0mfunction_3\u001b[0m\u001b[1;33m(\u001b[0m\u001b[0mparameter_1\u001b[0m\u001b[1;33m)\u001b[0m\u001b[1;33m\u001b[0m\u001b[0m\n\u001b[1;32m---> 16\u001b[1;33m     \u001b[0mres_2\u001b[0m \u001b[1;33m=\u001b[0m \u001b[0mfunction_2\u001b[0m\u001b[1;33m(\u001b[0m\u001b[0mparameter_1\u001b[0m\u001b[1;33m,\u001b[0m \u001b[0mparameter_2\u001b[0m\u001b[1;33m)\u001b[0m\u001b[1;33m\u001b[0m\u001b[0m\n\u001b[0m\u001b[0;32m     17\u001b[0m     \u001b[0mapples\u001b[0m \u001b[1;33m=\u001b[0m \u001b[0mres_1\u001b[0m \u001b[1;33m+\u001b[0m \u001b[0mres_2\u001b[0m\u001b[1;33m\u001b[0m\u001b[0m\n\u001b[0;32m     18\u001b[0m     \u001b[1;32mreturn\u001b[0m\u001b[1;33m(\u001b[0m\u001b[0mapples\u001b[0m\u001b[1;33m)\u001b[0m\u001b[1;33m\u001b[0m\u001b[0m\n",
      "\u001b[1;32m<ipython-input-17-b9a5bc986b48>\u001b[0m in \u001b[0;36mfunction_2\u001b[1;34m(parameter_1, parameter_2)\u001b[0m\n\u001b[0;32m      4\u001b[0m \u001b[1;33m\u001b[0m\u001b[0m\n\u001b[0;32m      5\u001b[0m \u001b[1;32mdef\u001b[0m \u001b[0mfunction_2\u001b[0m\u001b[1;33m(\u001b[0m\u001b[0mparameter_1\u001b[0m\u001b[1;33m,\u001b[0m \u001b[0mparameter_2\u001b[0m\u001b[1;33m)\u001b[0m\u001b[1;33m:\u001b[0m\u001b[1;33m\u001b[0m\u001b[0m\n\u001b[1;32m----> 6\u001b[1;33m     \u001b[0mres_1\u001b[0m \u001b[1;33m=\u001b[0m \u001b[0mfunction_1\u001b[0m\u001b[1;33m(\u001b[0m\u001b[0mparameter_1\u001b[0m\u001b[1;33m,\u001b[0m \u001b[0mparameter_2\u001b[0m\u001b[1;33m)\u001b[0m\u001b[1;33m\u001b[0m\u001b[0m\n\u001b[0m\u001b[0;32m      7\u001b[0m     \u001b[1;32mreturn\u001b[0m\u001b[1;33m(\u001b[0m\u001b[0mres_1\u001b[0m \u001b[1;33m*\u001b[0m \u001b[0mparameter_2\u001b[0m\u001b[1;33m)\u001b[0m\u001b[1;33m\u001b[0m\u001b[0m\n\u001b[0;32m      8\u001b[0m \u001b[1;33m\u001b[0m\u001b[0m\n",
      "\u001b[1;32m<ipython-input-17-b9a5bc986b48>\u001b[0m in \u001b[0;36mfunction_1\u001b[1;34m(parameter_1, parameter_2)\u001b[0m\n\u001b[0;32m      1\u001b[0m \u001b[1;31m### The Stack -- Give an example of something wrong they need to fix.  Use the stack trace to find the issue.\u001b[0m\u001b[1;33m\u001b[0m\u001b[1;33m\u001b[0m\u001b[0m\n\u001b[0;32m      2\u001b[0m \u001b[1;32mdef\u001b[0m \u001b[0mfunction_1\u001b[0m\u001b[1;33m(\u001b[0m\u001b[0mparameter_1\u001b[0m\u001b[1;33m,\u001b[0m \u001b[0mparameter_2\u001b[0m\u001b[1;33m)\u001b[0m\u001b[1;33m:\u001b[0m\u001b[1;33m\u001b[0m\u001b[0m\n\u001b[1;32m----> 3\u001b[1;33m     \u001b[1;32mreturn\u001b[0m\u001b[1;33m(\u001b[0m\u001b[0mparameter_1\u001b[0m \u001b[1;33m/\u001b[0m \u001b[0mparameter_2\u001b[0m\u001b[1;33m)\u001b[0m\u001b[1;33m\u001b[0m\u001b[0m\n\u001b[0m\u001b[0;32m      4\u001b[0m \u001b[1;33m\u001b[0m\u001b[0m\n\u001b[0;32m      5\u001b[0m \u001b[1;32mdef\u001b[0m \u001b[0mfunction_2\u001b[0m\u001b[1;33m(\u001b[0m\u001b[0mparameter_1\u001b[0m\u001b[1;33m,\u001b[0m \u001b[0mparameter_2\u001b[0m\u001b[1;33m)\u001b[0m\u001b[1;33m:\u001b[0m\u001b[1;33m\u001b[0m\u001b[0m\n",
      "\u001b[1;31mZeroDivisionError\u001b[0m: division by zero"
     ]
    }
   ],
   "source": [
    "function_4(100, 0)\n",
    "# you know the error is in function_1, as it is in the oldest call at the bottom of the stack\n",
    "#functions that successfully ran are: function 3, as the zero is never passed to it, so res_1 in function 4 is successfuly calculated."
   ]
  },
  {
   "cell_type": "markdown",
   "metadata": {},
   "source": [
    "### 3-B\n",
    "\n",
    "What functions ran successfully before the error occured?  Talk your group through the stack trace from top to bottom to explain it."
   ]
  },
  {
   "cell_type": "markdown",
   "metadata": {},
   "source": [
    "## Activity 4 - Bonus in Lamdba Function\n",
    "\n",
    "### 4-A\n",
    "\n",
    "Write a lambda function that cubes a single number\n",
    "\n",
    "```python\n",
    "imma_function(4)\n",
    "64\n",
    "```"
   ]
  },
  {
   "cell_type": "code",
   "execution_count": 2,
   "metadata": {},
   "outputs": [],
   "source": [
    "imma_function = lambda x: x**3"
   ]
  },
  {
   "cell_type": "code",
   "execution_count": 3,
   "metadata": {},
   "outputs": [
    {
     "data": {
      "text/plain": [
       "64"
      ]
     },
     "execution_count": 3,
     "metadata": {},
     "output_type": "execute_result"
    }
   ],
   "source": [
    "imma_function(4)"
   ]
  },
  {
   "cell_type": "markdown",
   "metadata": {},
   "source": [
    "### 4-B\n",
    "\n",
    "Write a lambda function that cubes a list of numbers\n",
    "\n",
    "```python\n",
    "imma_notherfunction(range(1,10))\n",
    "[1, 8, 27, 64, 125, 216, 343, 512, 729]\n",
    "```"
   ]
  },
  {
   "cell_type": "code",
   "execution_count": 10,
   "metadata": {},
   "outputs": [
    {
     "data": {
      "text/plain": [
       "[1, 8, 27, 64, 125, 216, 343, 512, 729]"
      ]
     },
     "execution_count": 10,
     "metadata": {},
     "output_type": "execute_result"
    }
   ],
   "source": [
    "imma_notherfunction = lambda list: [x**3 for x in list]\n",
    "imma_notherfunction(range(1,10))"
   ]
  },
  {
   "cell_type": "code",
   "execution_count": null,
   "metadata": {},
   "outputs": [],
   "source": []
  }
 ],
 "metadata": {
  "anaconda-cloud": {},
  "kernelspec": {
   "display_name": "Python 3",
   "language": "python",
   "name": "python3"
  },
  "language_info": {
   "codemirror_mode": {
    "name": "ipython",
    "version": 3
   },
   "file_extension": ".py",
   "mimetype": "text/x-python",
   "name": "python",
   "nbconvert_exporter": "python",
   "pygments_lexer": "ipython3",
   "version": "3.6.5"
  },
  "widgets": {
   "state": {},
   "version": "1.1.2"
  }
 },
 "nbformat": 4,
 "nbformat_minor": 2
}
