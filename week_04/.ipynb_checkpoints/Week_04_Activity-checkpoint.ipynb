{
 "cells": [
  {
   "cell_type": "markdown",
   "metadata": {},
   "source": [
    "# Unit 4 Live Session - Breakout Activities\n",
    "\n",
    "\n",
    "###  1. Psudocoding"
   ]
  },
  {
   "cell_type": "markdown",
   "metadata": {},
   "source": [
    "## Activity 1 - Psudocoding\n",
    "\n",
    "In class, your instructor walked you through how to psudocode the first part of the Palindrome problem from homework.  For reference, that problem asked you:\n",
    "\n",
    "Pascal's triangle is a triangle of numbers that is computed as follows.  The first row contains a 1.  Each row after that begins and ends with a 1, and every other number is the sum of the two numbers above it.  The first six rows of Pascal's triangle are shown below.\n",
    "```\n",
    "      1\n",
    "     1 1\n",
    "    1 2 1\n",
    "  1  3 3  1\n",
    " 1 4  6  4 1\n",
    "1 5 10 10 5 1\n",
    "```\n",
    "Write a script to compute and print the *n*th row of Pascal's triangle. Do not spend time trying to print the entire triangle in the format above (it is for illustrative purposes only).\n",
    "\n"
   ]
  },
  {
   "cell_type": "markdown",
   "metadata": {},
   "source": [
    "#### Question 1-1:\n",
    "Below is the Psudocode started in class.  This code, for any row \"last_row\", can calculate the next row of Pascal's triangle.  Please update the psudocode to explain how to print the *n*th of Pascal's triangle, instead of just getting the \"next\" row."
   ]
  },
  {
   "cell_type": "code",
   "execution_count": null,
   "metadata": {
    "collapsed": true
   },
   "outputs": [],
   "source": [
    "## We will use two arrays, one for the \"last row\" one for \"current row\"\n",
    "## Insight: Each pass through the loop, we can set \"current row\" to \"last row\". Then we can build a new \"current row\".\n",
    "## We first initialize the two arrays to [1] and [1,1] for rows 1 and 2\n",
    "## We then loop through an algorythem as follows:\n",
    "\n",
    "## 1. Replace \"last_row\" with the contents of \"current_row\" so we can create a new \"current_row\".\n",
    "## 2. Clear out \"current_row\" to have nothing in it.\n",
    "## 3. The 0 digit in current_row is 1\n",
    "## 4. Start a \"While\" loop that iterates until len(current_row) == len(last_row)\n",
    "    ## 5. Use a counter (n) that starts at 1 and increments by 1 each time through the loop\n",
    "    ## 6. Use \"append\" to set current_row[n] = last_row[n] + last_row[n-1]\n",
    "## 7. After exiting the loop, add the final \"1\"\n",
    "\n",
    "## Now wait, what is the problem? This only builds one row. Go into breakouts and, starting with\n",
    "    ## this psudocode, update the psudocode to find the \"N\"th line, as required in the problem. "
   ]
  },
  {
   "cell_type": "markdown",
   "metadata": {},
   "source": [
    "#### Question 1-2:\n",
    "Below is an implementation of the psudocode explained in class. Please update this code to include the steps you added above.  The code below does not have psudocode as comments for clarity, but feel free to use your psudocode as the comments in your solution.   "
   ]
  },
  {
   "cell_type": "code",
   "execution_count": null,
   "metadata": {},
   "outputs": [],
   "source": [
    "# Initalize\n",
    "last_row = [1, 1]\n",
    "current_row = []\n",
    "\n",
    "# First digit of any row is 1\n",
    "current_row.append(1)\n",
    "n = 1\n",
    "# Calculate values of next row\n",
    "while len(current_row) < len(last_row):\n",
    "    current_row.append(last_row[n] + last_row[n-1])\n",
    "    n += 1\n",
    "# Last digit of any row is 1\n",
    "current_row.append(1)\n",
    "\n",
    "print(last_row)\n",
    "print(current_row)"
   ]
  },
  {
   "cell_type": "markdown",
   "metadata": {
    "collapsed": true
   },
   "source": [
    "### Activity 2 - \"For\" vs. \"While\" loops\n",
    "\n",
    "#### Question 2-1: \"For\" Loop\n",
    "The list \"basket\" below is made up of fruit and pokemon.  Using a **for** loop, please iterate through the list and print, once per object, if it is a pokemon or a fruit.\n",
    "\n",
    "Sample output:\n",
    ">`apple is a fruit!\n",
    "jigglypuff is a pokemon!\n",
    "grape is a fruit!\n",
    "pineapple is a fruit!\n",
    "pikachu is a pokemon!`"
   ]
  },
  {
   "cell_type": "code",
   "execution_count": 5,
   "metadata": {},
   "outputs": [
    {
     "name": "stdout",
     "output_type": "stream",
     "text": [
      "apple is a fruit!\n",
      "jigglypuff is a pokemon!\n",
      "grape is a fruit!\n",
      "pineapple is a fruit!\n",
      "pikachu is a pokemon!\n",
      "Not sure *what* lemon is!\n"
     ]
    }
   ],
   "source": [
    "basket = ['apple', 'jigglypuff', 'grape', 'pineapple', 'pikachu','lemon']\n",
    "fruit = ['apple', 'grape', 'pineapple']\n",
    "pokemon = ['jigglypuff', 'pikachu']\n",
    "\n",
    "for item in basket:\n",
    "    if item in fruit:\n",
    "        print(f\"{item} is a fruit!\")\n",
    "    elif item in pokemon:\n",
    "        print(f\"{item} is a pokemon!\")\n",
    "    else:\n",
    "        print(f\"Not sure *what* {item} is!\")"
   ]
  },
  {
   "cell_type": "code",
   "execution_count": null,
   "metadata": {},
   "outputs": [],
   "source": []
  },
  {
   "cell_type": "markdown",
   "metadata": {},
   "source": [
    "#### Question 2-2: \"While\" Loop\n",
    "\n",
    "Now, please try to implement the same program using a **while** loop.  Again, your output should be:\n",
    "\n",
    "Sample output:\n",
    ">`apple is a fruit!\n",
    "jigglypuff is a pokemon!\n",
    "grape is a fruit!\n",
    "pineapple is a fruit!\n",
    "pikachu is a pokemon!`"
   ]
  },
  {
   "cell_type": "code",
   "execution_count": 6,
   "metadata": {},
   "outputs": [
    {
     "name": "stdout",
     "output_type": "stream",
     "text": [
      "apple is a fruit!\n",
      "jigglypuff is a pokemon!\n",
      "grape is a fruit!\n",
      "pineapple is a fruit!\n",
      "pikachu is a pokemon!\n"
     ]
    }
   ],
   "source": [
    "basket = ['apple', 'jigglypuff', 'grape', 'pineapple', 'pikachu']\n",
    "fruit = ['apple', 'grape', 'pineapple']\n",
    "pokemon = ['jigglypuff', 'pikachu']\n",
    "\n",
    "n=0\n",
    "while n < len(basket):\n",
    "    item = basket[n]\n",
    "    if item in fruit:\n",
    "        print(f\"{item} is a fruit!\")\n",
    "    elif item in pokemon:\n",
    "        print(f\"{item} is a pokemon!\")\n",
    "    else:\n",
    "        print(f\"Not sure *what* {item} is!\")\n",
    "    n+=1"
   ]
  },
  {
   "cell_type": "code",
   "execution_count": null,
   "metadata": {
    "collapsed": true
   },
   "outputs": [],
   "source": []
  },
  {
   "cell_type": "markdown",
   "metadata": {},
   "source": [
    "#### Question 2-3\n",
    "In your own words, when is it better to use a \"for\" loop than a \"while\" loop?  When is it better to use a \"while\" loop?"
   ]
  },
  {
   "cell_type": "markdown",
   "metadata": {},
   "source": [
    "[Put answer here]"
   ]
  },
  {
   "cell_type": "markdown",
   "metadata": {},
   "source": [
    "### Activity 3 - Comprehensions"
   ]
  },
  {
   "cell_type": "markdown",
   "metadata": {},
   "source": [
    "**Question 3-1**\n",
    "\n",
    "Build list comprehensions to do the following:\n",
    "\n",
    "1. Create a list 'a' that multiplies each element of the sample_list by itself (x^2).\n",
    "2. Create a list 'b' that multiplies each element of the sample_list by itself, if the number is less than or equal to 4.\n",
    "3. Create a list 'c' of tuples (x^2, x^3) for each element of the sample_list.\n",
    "4. Create a list 'd' that extracts the second element from each tuple in list 'c'."
   ]
  },
  {
   "cell_type": "code",
   "execution_count": 5,
   "metadata": {},
   "outputs": [
    {
     "name": "stdout",
     "output_type": "stream",
     "text": [
      "[1, 4, 9, 16, 25, 36]\n",
      "[1, 4, 9]\n",
      "[(1, 1), (4, 8), (9, 27), (16, 64), (25, 125), (36, 216)]\n",
      "[1, 8, 27, 64, 125, 216]\n"
     ]
    }
   ],
   "source": [
    "sample_list = [1, 2, 3, 4, 5, 6]\n",
    "\n",
    "a = [sample_list[n]**2 for n in range(len(sample_list))] # Code Here\n",
    "b = [sample_list[n]**2 for n in range(len(sample_list)) if sample_list[n] < 4]# Code Here\n",
    "c = [(sample_list[n]**2,sample_list[n]**3) for n in range(len(sample_list))]# Code Here\n",
    "d = [c[n][1] for n in range(len(c))] # Code Here\n",
    "\n",
    "print(a)\n",
    "print(b)\n",
    "print(c)\n",
    "print(d)"
   ]
  },
  {
   "cell_type": "markdown",
   "metadata": {
    "collapsed": true
   },
   "source": [
    "**Question 3-2** \n",
    "\n",
    "Load in the data that is available in this repository! Here's how to get started with loading in the data.\n",
    "\n",
    "```python\n",
    "import json\n",
    "\n",
    "with open(\"data.json\") as f:\n",
    "     temp = json.load(f)\n",
    "     data = temp['data']\n",
    "     cols = temp['cols']\n",
    "```"
   ]
  },
  {
   "cell_type": "markdown",
   "metadata": {},
   "source": [
    "- Write a comprehension that will extract out all the names and removes duplicates in doing so. The resulting data structure may be a list or a set.\n"
   ]
  },
  {
   "cell_type": "code",
   "execution_count": 24,
   "metadata": {},
   "outputs": [
    {
     "name": "stdout",
     "output_type": "stream",
     "text": [
      "{'Jarrod', 'Derek', 'Cyrus', 'Vladimir', 'Brady', 'Hu', 'Vance', 'Joshua', 'Clayton', 'Norman', 'Arsenio', 'Marshall', 'Benjamin', 'Ralph', 'Sean', 'Ali', 'Yasir', 'Lucas', 'Connor', 'Lionel', 'Philip', 'Christian', 'Emery', 'Ian', 'Driscoll', 'George', 'Kaseem', 'Austin', 'Quentin', 'Harlan', 'Dylan', 'Avram', 'Tobias', 'Giacomo', 'Keith', 'Dalton', 'Brian', 'Nolan', 'Drew', 'Jamal', 'Talon', 'Phillip', 'Brody', 'David', 'Xanthus', 'Drake', 'Hammett', 'Ivor', 'Noah', 'Roth', 'Dean', 'Lane', 'Beck', 'Reese', 'Davis', 'Carter', 'Amery', 'James', 'Reed', 'Armando', 'Ferdinand', 'Warren', 'Alexander', 'Marsden', 'Jerry', 'Bert', 'Hoyt', 'Thomas', 'Kennedy', 'Neil', 'Macaulay', 'Devin', 'Dillon', 'Logan', 'Alec', 'Joel', 'Thor', 'Burton', 'Lester', 'Steven', 'Joseph', 'Kenyon', 'Demetrius', 'Aidan', 'Yoshio', 'Galvin', 'Clark', 'Ulysses'}\n"
     ]
    }
   ],
   "source": [
    "import json\n",
    "\n",
    "with open(\"data.json\") as f:\n",
    "     temp = json.load(f)\n",
    "     data = temp['data']\n",
    "     cols = temp['cols']\n",
    "\n",
    "#this works        \n",
    "# names = []        \n",
    "# for n in range(0,len(data)):\n",
    "#     if data[n][0] not in names:\n",
    "#         names.append(data[n][0])\n",
    "# print(names)\n",
    "    \n",
    "\n",
    "#this works because we are doing a comprehension using a set, which won't allow duplicates.\n",
    "#Q: How to do this with a list?\n",
    "names = {data[n][0] for n in range(0,len(data))}\n",
    "print(names)"
   ]
  },
  {
   "cell_type": "markdown",
   "metadata": {},
   "source": [
    "- Count the number of people in each state. There are several ways of doing this so I won't give any tips!"
   ]
  },
  {
   "cell_type": "code",
   "execution_count": 47,
   "metadata": {},
   "outputs": [
    {
     "name": "stdout",
     "output_type": "stream",
     "text": [
      "{'Iowa': 3, 'Florida': 3, 'Pennsylvania': 3, 'Alaska': 3, 'Georgia': 3, 'Minnesota': 5, 'Illinois': 7, 'Texas': 5, 'Massachusetts': 5, 'Ohio': 3, 'Michigan': 4, 'Washington': 3, 'Vermont': 2, 'Wyoming': 2, 'Arizona': 1, 'Mississippi': 3, 'Colorado': 3, 'Maryland': 1, 'Kansas': 5, 'Missouri': 1, 'Maine': 3, 'Montana': 3, 'Idaho': 1, 'California': 1, 'Utah': 3, 'Louisiana': 3, 'Nevada': 1, 'Connecticut': 1, 'Wisconsin': 1, 'Nebraska': 3, 'Oregon': 3, 'Hawaii': 4, 'Kentucky': 1, 'Oklahoma': 1, 'Arkansas': 3, 'Virginia': 2, 'Tennessee': 1}\n"
     ]
    }
   ],
   "source": [
    "#     # use a conditional at that tests if there is an entry, another option would be to employ defaultdict\n",
    "#     if count_dict.get(word): # if this has already been entered then increment \n",
    "#         count_dict[word]= count_dict[word] + 1\n",
    "#     else:\n",
    "#         count_dict[word]= 1 # make the value  \n",
    "# print(count_dict)\n",
    "\n",
    "#first create a new list from 'data' replacing state abbreviations with state names\n",
    "import copy\n",
    "data2 = copy.deepcopy(data)\n",
    "#make dictionary of state names and abbreviations\n",
    "abbr = ['WY','WI','WV','WA','VA','VT','UT','TX','TN','SD','SC','RI','PA','OR','OK','OH','ND','NC','NY','NM','NJ','NH','NV','NE','MT','MO','MS','MN','MI','MA','MD','ME','LA','KY','KS','IA','IN','IL','ID','HI','GA','FL','DE','CT','CO','CA','AR','AZ','AK','AL'\n",
    "]\n",
    "statename = ['Wyoming','Wisconsin','West Virginia','Washington','Virginia','Vermont','Utah','Texas','Tennessee','South Dakota','South Carolina','Rhode Island','Pennsylvania','Oregon','Oklahoma','Ohio','North Dakota','North Carolina','New York','New Mexico','New Jersey','New Hampshire','Nevada','Nebraska','Montana','Missouri','Mississippi','Minnesota','Michigan','Massachusetts','Maryland','Maine','Louisiana','Kentucky','Kansas','Iowa','Indiana','Illinois','Idaho','Hawaii','Georgia','Florida','Delaware','Connecticut','Colorado','California','Arkansas','Arizona','Alaska','Alabama'\n",
    "]\n",
    "namedict = dict(zip(abbr,statename))\n",
    "\n",
    "for n in range(0,len(data2)):\n",
    "    state = data2[n][4]\n",
    "    if state in statename:\n",
    "        continue\n",
    "    else:\n",
    "        data2[n][4] = namedict.get(state)\n",
    "        \n",
    "statepop = {}\n",
    "for n in range(0,len(data2)):\n",
    "    if statepop.get(data2[n][4]): #if this is already an entry - (i.e. this is boolean which is false if the entry is empty), then increment\n",
    "        statepop[data2[n][4]] = statepop[data2[n][4]]+1\n",
    "    else:\n",
    "        statepop[data2[n][4]] = 1 #if this doesn't exist then add the state and increment by 1\n",
    "print(statepop)\n",
    "        \n"
   ]
  },
  {
   "cell_type": "markdown",
   "metadata": {},
   "source": [
    "- Write a comprehension that will end up with a key of name and value of phone number. The result should be a dictionary."
   ]
  },
  {
   "cell_type": "code",
   "execution_count": 50,
   "metadata": {},
   "outputs": [
    {
     "name": "stdout",
     "output_type": "stream",
     "text": [
      "{'Reed': '1-186-988-9663', 'Clark': '701-9509', 'Demetrius': '1-707-814-6484', 'Davis': '1-769-482-8286', 'Hammett': '1-718-960-0437', 'Ivor': '123-7017', 'Drew': '1-569-640-0785', 'Quentin': '121-5941', 'Giacomo': '228-3039', 'Avram': '261-1266', 'Neil': '903-5893', 'Jerry': '1-807-896-0508', 'Ulysses': '1-587-815-1654', 'Armando': '552-1617', 'Derek': '456-5056', 'Jamal': '961-4557', 'Vance': '1-661-742-0429', 'Galvin': '1-220-754-5143', 'Kenyon': '1-323-359-1986', 'James': '1-367-530-4094', 'Phillip': '1-540-873-0092', 'Brody': '295-4026', 'Emery': '1-312-628-6993', 'Jarrod': '100-1188', 'Nolan': '829-2667', 'Yoshio': '1-860-795-5519', 'Norman': '1-414-646-2244', 'Thomas': '386-9355', 'Burton': '537-4363', 'Clayton': '1-310-760-5764', 'Vladimir': '1-260-313-0585', 'Lionel': '1-138-741-7479', 'Dalton': '1-554-675-1599', 'Joseph': '526-5432', 'Hoyt': '383-4839', 'Tobias': '353-4286', 'Ferdinand': '1-393-182-6231', 'Driscoll': '1-686-258-4283', 'Bert': '315-6071', 'Noah': '898-6101', 'Keith': '1-382-215-8999', 'Drake': '1-384-930-7825', 'George': '1-755-579-5717', 'Christian': '279-2636', 'Connor': '1-853-856-0196', 'Dylan': '1-596-569-0803', 'Amery': '271-7596', 'Ralph': '1-194-996-7310', 'Harlan': '1-854-959-2526', 'Kennedy': '527-3998', 'Alec': '750-5753', 'Warren': '751-3918', 'Talon': '709-8727', 'Steven': '1-846-872-4914', 'Roth': '1-258-998-7158', 'Dillon': '921-1181', 'Aidan': '1-984-711-9462', 'Ian': '1-540-597-1825', 'Alexander': '827-5102', 'Logan': '1-274-570-4439', 'Hu': '291-5467', 'Benjamin': '1-149-920-6553', 'Lucas': '1-523-649-1350', 'Austin': '1-526-554-4190', 'Lester': '510-1730', 'Joshua': '1-829-779-4013', 'Cyrus': '224-1676', 'Philip': '828-3727', 'Dean': '1-251-143-2893', 'Arsenio': '1-118-744-0704', 'Macaulay': '1-502-585-1019', 'Marsden': '203-3348', 'Joel': '1-912-417-3765', 'Lane': '1-374-935-1437', 'Reese': '1-308-432-7528', 'Ali': '1-133-956-0980', 'Marshall': '1-754-686-8473', 'Beck': '1-322-605-5384', 'Sean': '692-2058', 'David': '1-967-307-7419', 'Brian': '621-4923', 'Thor': '760-7789', 'Carter': '474-8060', 'Brady': '1-210-344-3611', 'Kaseem': '873-6790', 'Devin': '500-2505', 'Xanthus': '939-9238', 'Yasir': '737-8338'}\n"
     ]
    }
   ],
   "source": [
    "#d = {key: value for (key, value) in sequence})\n",
    "phonebook = {data[n][0]:data[n][1] for n in range(0,len(data))}\n",
    "print(phonebook)"
   ]
  },
  {
   "cell_type": "markdown",
   "metadata": {},
   "source": [
    "- Write a comprehension to find which letters of the alphabet (if any) are not used as the first letter in their names. Don't just list which ones we have, but which ones we are missing.\n",
    "\n",
    "Hint for this last one use:\n",
    "```python\n",
    "import string\n",
    "string.ascii_lowercase\n",
    "```"
   ]
  },
  {
   "cell_type": "code",
   "execution_count": 92,
   "metadata": {},
   "outputs": [
    {
     "name": "stdout",
     "output_type": "stream",
     "text": [
      "['o', 'z']\n"
     ]
    }
   ],
   "source": [
    "import string\n",
    "string.ascii_lowercase\n",
    "#This works as a for/for/else loop\n",
    "missing=[]\n",
    "for l in string.ascii_lowercase:\n",
    "    for n in range(0,len(data)):\n",
    "        if l == data[n][0][0].lower():\n",
    "            break\n",
    "    else:\n",
    "        missing.append(l)\n",
    "print(missing)\n",
    "\n",
    "\n",
    "#now as a list comprehension - HOW??\n",
    "# missing = [l for l in string.ascii_lowercase for n in range(0,len(data)) if not l== data[n][0][0].lower() ]\n",
    "# print(missing)"
   ]
  },
  {
   "cell_type": "code",
   "execution_count": null,
   "metadata": {},
   "outputs": [],
   "source": []
  }
 ],
 "metadata": {
  "anaconda-cloud": {},
  "kernelspec": {
   "display_name": "Python 3",
   "language": "python",
   "name": "python3"
  },
  "language_info": {
   "codemirror_mode": {
    "name": "ipython",
    "version": 3
   },
   "file_extension": ".py",
   "mimetype": "text/x-python",
   "name": "python",
   "nbconvert_exporter": "python",
   "pygments_lexer": "ipython3",
   "version": "3.6.5"
  }
 },
 "nbformat": 4,
 "nbformat_minor": 1
}
